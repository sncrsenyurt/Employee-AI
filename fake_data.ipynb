{
 "cells": [
  {
   "cell_type": "code",
   "execution_count": 85,
   "id": "79d88ede",
   "metadata": {},
   "outputs": [],
   "source": [
    "import uuid\n",
    "import pandas as pd\n",
    "import numpy as np\n",
    "from datetime import datetime, timedelta\n",
    "import random"
   ]
  },
  {
   "cell_type": "code",
   "execution_count": 86,
   "id": "ce3e782b",
   "metadata": {},
   "outputs": [],
   "source": [
    "csv_file_path = 'fake_data.csv'\n",
    "df = pd.read_csv(csv_file_path)"
   ]
  },
  {
   "cell_type": "code",
   "execution_count": 87,
   "id": "0d390220",
   "metadata": {},
   "outputs": [],
   "source": [
    "df['uuid'] = [str(uuid.uuid4()) for i in range(9999)]"
   ]
  },
  {
   "cell_type": "code",
   "execution_count": 88,
   "id": "824fedbf",
   "metadata": {},
   "outputs": [],
   "source": [
    "df['data_id'] = np.random.randint(100000, 999999, size=len(df))"
   ]
  },
  {
   "cell_type": "code",
   "execution_count": 89,
   "id": "425bcfb2",
   "metadata": {},
   "outputs": [],
   "source": [
    "df['state'] = 'uploaded'"
   ]
  },
  {
   "cell_type": "code",
   "execution_count": 90,
   "id": "b7e4e19f",
   "metadata": {},
   "outputs": [],
   "source": [
    "def generate_start_end_times(num_times):\n",
    "    start_times = []\n",
    "    end_times = []\n",
    "    base_time = datetime(2024, 3, 20, 6, 0, 0)\n",
    "\n",
    "    for i in range(num_times):\n",
    "        if i % 4 == 0 and i != 0:\n",
    "            base_time = base_time + timedelta(days=1)\n",
    "\n",
    "       \n",
    "        time_diff_start = np.random.randint(90, 121)\n",
    "        time_diff_end = np.random.randint(100, 121)\n",
    "\n",
    "        \n",
    "        start_time = base_time\n",
    "        start_times.append(start_time.strftime('%Y-%m-%dT%H:%M:%S+00:00'))\n",
    "\n",
    "       \n",
    "        end_time = base_time + timedelta(minutes=time_diff_end)\n",
    "        end_times.append(end_time.strftime('%Y-%m-%dT%H:%M:%S+00:00'))\n",
    "\n",
    "        \n",
    "        base_time = end_time + timedelta(minutes=time_diff_start)\n",
    "\n",
    "    return start_times, end_times"
   ]
  },
  {
   "cell_type": "code",
   "execution_count": 91,
   "id": "66248421",
   "metadata": {},
   "outputs": [],
   "source": [
    "start_times, end_times = generate_start_end_times(9999)"
   ]
  },
  {
   "cell_type": "code",
   "execution_count": 92,
   "id": "46792413",
   "metadata": {},
   "outputs": [],
   "source": [
    "df['start_time'] = start_times\n",
    "df['end_time'] = end_times"
   ]
  },
  {
   "cell_type": "code",
   "execution_count": 93,
   "id": "29ee4f33",
   "metadata": {},
   "outputs": [],
   "source": [
    "num_rows = len(df)\n",
    "\n",
    "vehicles = ['knight_' + str(np.random.randint(50, 101)) for _ in range(num_rows)]\n",
    "\n",
    "df['vehicle'] = vehicles"
   ]
  },
  {
   "cell_type": "code",
   "execution_count": 94,
   "id": "02e0866a",
   "metadata": {},
   "outputs": [],
   "source": [
    "names = [\n",
    "    \"Alice\", \"Bob\", \"Charlie\", \"David\", \"Emily\", \"Frank\", \"Grace\", \"Henry\", \"Ivy\", \"Jack\",\n",
    "    \"Kate\", \"Liam\", \"Mia\", \"Noah\", \"Olivia\", \"Peter\", \"Quinn\", \"Rachel\", \"Sam\", \"Tracy\",\n",
    "    \"Uma\", \"Victor\", \"Mendy\", \"Xavier\", \"Yvonne\", \"Zack\",\n",
    "    \"Adam\", \"Benjamin\", \"Catherine\", \"Daniel\", \"Ella\", \"Fiona\", \"George\", \"Hannah\", \"Isaac\", \"Jane\",\n",
    "    \"Kevin\", \"Lucy\", \"Michael\", \"Nancy\", \"Oscar\", \"Pamela\", \"Quentin\", \"Rose\", \"Steven\", \"Tina\",\n",
    "    \"Vincent\", \"Walter\", \"Xander\", \"Yasmine\", \"Zara\"\n",
    "]\n"
   ]
  },
  {
   "cell_type": "code",
   "execution_count": 95,
   "id": "d717718a",
   "metadata": {},
   "outputs": [],
   "source": [
    "positions = {\n",
    "    'driver': [],\n",
    "    'passenger': [],\n",
    "    'operator': [],\n",
    "    'instructor': []\n",
    "}"
   ]
  },
  {
   "cell_type": "code",
   "execution_count": 96,
   "id": "104f09a0",
   "metadata": {},
   "outputs": [],
   "source": [
    "for index, row in df.iterrows():\n",
    "    positions['driver'].append(random.choice(names))\n",
    "    positions['passenger'].append(random.choice(names))\n",
    "    positions['operator'].append(random.choice(names))\n",
    "    positions['instructor'].append(random.choice(names))"
   ]
  },
  {
   "cell_type": "code",
   "execution_count": 97,
   "id": "0643368e",
   "metadata": {},
   "outputs": [],
   "source": [
    "df['driver'] = positions['driver']\n",
    "df['passenger'] = positions['passenger']\n",
    "df['operator'] = positions['operator']\n",
    "df['instructor'] = positions['instructor']\n"
   ]
  },
  {
   "cell_type": "code",
   "execution_count": 98,
   "id": "672a3342",
   "metadata": {},
   "outputs": [],
   "source": [
    "df['git_sha'] = 'a7e5f5f6c48bfb037de10b99105605a8f071434700a5a64c5dd99073b33d8449'"
   ]
  },
  {
   "cell_type": "code",
   "execution_count": 99,
   "id": "3b9fcad7",
   "metadata": {},
   "outputs": [],
   "source": [
    "df['git_branch'] = 'github.com/sncrsenyurt'"
   ]
  },
  {
   "cell_type": "code",
   "execution_count": 100,
   "id": "8bd72ef5",
   "metadata": {},
   "outputs": [],
   "source": [
    "data = {'run_type': [''] * 9999}\n",
    "\n",
    "options = ['normal_ar', 'dot_to_dot']\n",
    "df['run_type'] = df['run_type'].apply(lambda x: random.choice(options))"
   ]
  },
  {
   "cell_type": "code",
   "execution_count": 101,
   "id": "8e70cf39",
   "metadata": {},
   "outputs": [],
   "source": [
    "data = {'autonomus_mode': [''] * 9999}\n",
    "\n",
    "options = ['autonomus', 'manual']\n",
    "weights = [0.95, 0.05]\n",
    "\n",
    "df['run_type'] = df['autonomous_mode'].apply(lambda x: random.choices(options, weights)[0])"
   ]
  },
  {
   "cell_type": "code",
   "execution_count": 102,
   "id": "ecc00904",
   "metadata": {},
   "outputs": [],
   "source": [
    "df['public_roads'] = 'True'"
   ]
  },
  {
   "cell_type": "code",
   "execution_count": 103,
   "id": "ace490a0",
   "metadata": {},
   "outputs": [],
   "source": [
    "def format_start_time(start_time):\n",
    "    formatted_time = start_time[:10].replace('-', '') + start_time[11:19].replace(':', '')\n",
    "    return formatted_time\n",
    "\n",
    "df['meta_id'] = df['start_time'].apply(lambda x: format_start_time(x)) +' - '+ df['vehicle'].astype(str)"
   ]
  },
  {
   "cell_type": "code",
   "execution_count": 104,
   "id": "96336004",
   "metadata": {},
   "outputs": [],
   "source": [
    "start_number = random.randint(100000, 999999)\n",
    "\n",
    "missions = [f\"TASK-{start_number + i * random.randint(10, 15)}\" for i in range(len(df))]\n",
    "\n",
    "df['mission'] = missions"
   ]
  },
  {
   "cell_type": "code",
   "execution_count": 105,
   "id": "5b737ba0",
   "metadata": {},
   "outputs": [],
   "source": [
    "last_end_km = {}\n",
    "\n",
    "\n",
    "for index, row in df.iterrows():\n",
    "    vehicle = row['vehicle']\n",
    "    start_km = row['total_start_km']\n",
    "    end_km = row['total_end_km']\n",
    "    \n",
    "    \n",
    "    if vehicle in last_end_km and not np.isnan(last_end_km[vehicle]):\n",
    "        last_end = last_end_km[vehicle]\n",
    "        \n",
    "        \n",
    "        start_km = random.randint(last_end, last_end + 50)\n",
    "        \n",
    "        \n",
    "        end_km = start_km + random.randint(50, 200)\n",
    "    else:\n",
    "        \n",
    "        start_km = random.randint(1000, 2000)\n",
    "        end_km = start_km + random.randint(50, 200)\n",
    "    \n",
    "    \n",
    "    last_end_km[vehicle] = end_km\n",
    "    \n",
    "    \n",
    "    total_delta_km = end_km - start_km\n",
    "    \n",
    "    \n",
    "    df.at[index, 'total_start_km'] = start_km\n",
    "    df.at[index, 'total_end_km'] = end_km\n",
    "    df.at[index, 'total_delta_km'] = total_delta_km"
   ]
  },
  {
   "cell_type": "code",
   "execution_count": 106,
   "id": "6105bea8",
   "metadata": {},
   "outputs": [],
   "source": [
    "\n",
    "for index, row in df.iterrows():\n",
    "    \n",
    "    total_start_km = row['total_start_km']\n",
    "    total_end_km = row['total_end_km']\n",
    "    \n",
    "    \n",
    "    run_type = str(row['run_type']).lower()\n",
    "    if run_type == 'autonomus':\n",
    "        \n",
    "        autonom_start_km = random.uniform(total_start_km, total_end_km)\n",
    "        \n",
    "        \n",
    "        autonom_end_km = random.uniform(autonom_start_km, total_end_km)\n",
    "        \n",
    "        \n",
    "        autonomous_delta_km = autonom_end_km - autonom_start_km\n",
    "        \n",
    "        df.at[index, 'autonomous_start_km'] = autonom_start_km\n",
    "        df.at[index, 'autonomous_end_km'] = autonom_end_km\n",
    "        df.at[index, 'autonomous_delta_km'] = autonomous_delta_km\n",
    "    else:\n",
    "        \n",
    "        df.at[index, 'autonomous_start_km'] = 0\n",
    "        df.at[index, 'autonomous_end_km'] = 0\n",
    "        df.at[index, 'autonomous_delta_km'] = 0\n",
    "        \n",
    "    \n",
    "    extra_distance = random.uniform(0, 20)\n",
    "    total_end_km += extra_distance\n",
    "    \n",
    "    \n",
    "    df.at[index, 'total_end_km'] = total_end_km"
   ]
  },
  {
   "cell_type": "code",
   "execution_count": 107,
   "id": "906a0bf5",
   "metadata": {},
   "outputs": [],
   "source": [
    "df['interventions'] = np.random.randint(0, 31, size=len(df))\n",
    "df.loc[df['run_type'] == 'manual', 'interventions'] = 0"
   ]
  },
  {
   "cell_type": "code",
   "execution_count": 108,
   "id": "161027e8",
   "metadata": {},
   "outputs": [],
   "source": [
    "condition1 = df['interventions'] == 0\n",
    "condition2 = df['autonomous_delta_km'] == 0\n",
    "\n",
    "\n",
    "df['km_per_interventions'] = np.where(condition1 | condition2, 0, df['autonomous_delta_km'] / np.where(df['interventions'] == 0, 1, df['interventions']))"
   ]
  },
  {
   "cell_type": "code",
   "execution_count": 109,
   "id": "98a32ea1",
   "metadata": {},
   "outputs": [],
   "source": [
    "autonomous_delta_km = df['autonomous_delta_km']\n",
    "\n",
    "total_autonomous_seconds = []\n",
    "\n",
    "for delta_km in autonomous_delta_km:\n",
    "    delta_km_int = int(delta_km)  \n",
    "    multiplier = random.randint(100, 300)\n",
    "    random_seconds = random.randint(delta_km_int, delta_km_int * multiplier)\n",
    "    total_autonomous_seconds.append(random_seconds)\n",
    "\n",
    "df['total_autonomous_seconds'] = total_autonomous_seconds"
   ]
  },
  {
   "cell_type": "code",
   "execution_count": 110,
   "id": "a14e72ab",
   "metadata": {},
   "outputs": [],
   "source": [
    "df['total_autonomous_hours'] = df['total_autonomous_seconds'] / 3600"
   ]
  },
  {
   "cell_type": "code",
   "execution_count": 111,
   "id": "0645c457",
   "metadata": {},
   "outputs": [],
   "source": [
    "criteria = ['autonomous_delta_km', 'total_autonomous_seconds', 'interventions', 'total_delta_km']\n",
    "weights = [0.25, 0.6, 0.05, 0.1]\n",
    "\n",
    "df['mission_total_point'] = (df[criteria] * weights).sum(axis=1)"
   ]
  },
  {
   "cell_type": "code",
   "execution_count": 112,
   "id": "b974e229",
   "metadata": {},
   "outputs": [],
   "source": [
    "df.to_csv('updated_fake_data.csv', index=False)"
   ]
  },
  {
   "cell_type": "code",
   "execution_count": null,
   "id": "faaa1d15",
   "metadata": {},
   "outputs": [],
   "source": []
  },
  {
   "cell_type": "code",
   "execution_count": null,
   "id": "c450536b",
   "metadata": {},
   "outputs": [],
   "source": []
  }
 ],
 "metadata": {
  "kernelspec": {
   "display_name": "PythonData",
   "language": "python",
   "name": "python3"
  },
  "language_info": {
   "codemirror_mode": {
    "name": "ipython",
    "version": 3
   },
   "file_extension": ".py",
   "mimetype": "text/x-python",
   "name": "python",
   "nbconvert_exporter": "python",
   "pygments_lexer": "ipython3",
   "version": "3.7.7"
  }
 },
 "nbformat": 4,
 "nbformat_minor": 5
}
