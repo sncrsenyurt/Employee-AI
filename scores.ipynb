{
 "cells": [
  {
   "cell_type": "code",
   "execution_count": 31,
   "metadata": {},
   "outputs": [],
   "source": [
    "import pandas as pd\n",
    "import numpy as np\n",
    "from openpyxl import Workbook\n",
    "from openpyxl.utils.dataframe import dataframe_to_rows"
   ]
  },
  {
   "cell_type": "code",
   "execution_count": 32,
   "metadata": {},
   "outputs": [],
   "source": [
    "data_path = r'C:\\Users\\sence\\OneDrive\\Masaüstü\\FAKE_DATA\\updated_fake_data.csv'\n",
    "excel_path = r'C:\\Users\\sence\\OneDrive\\Masaüstü\\FAKE_DATA\\updated_fake_data_with_individual_performance.xlsx'\n",
    "data = pd.read_csv(data_path)"
   ]
  },
  {
   "cell_type": "code",
   "execution_count": 33,
   "metadata": {},
   "outputs": [],
   "source": [
    "criteria = ['autonomous_delta_km', 'total_autonomous_seconds', 'interventions', 'total_delta_km']\n",
    "weights = [0.25, 0.6, 0.05, 0.1]"
   ]
  },
  {
   "cell_type": "code",
   "execution_count": 34,
   "metadata": {},
   "outputs": [],
   "source": [
    "def calculate_score(row):\n",
    "    score = 0\n",
    "    for criterion, weight in zip(criteria, weights):\n",
    "        score += row[criterion] * weight\n",
    "    return score"
   ]
  },
  {
   "cell_type": "code",
   "execution_count": 35,
   "metadata": {},
   "outputs": [],
   "source": [
    "for position in ['driver', 'operator', 'passenger', 'instructor']:\n",
    "    data[f'{position}_score'] = data.apply(calculate_score, axis=1) * (data[position] == data[position])\n"
   ]
  },
  {
   "cell_type": "code",
   "execution_count": 36,
   "metadata": {},
   "outputs": [],
   "source": [
    "employees = pd.concat([data['driver'], data['operator'], data['passenger'], data['instructor']]).unique()\n",
    "employee_total_points = {employee: 0 for employee in employees}\n",
    "employee_task_count = {employee: 0 for employee in employees}\n",
    "employee_scores = {employee: [] for employee in employees}"
   ]
  },
  {
   "cell_type": "code",
   "execution_count": 37,
   "metadata": {},
   "outputs": [],
   "source": [
    "for index, row in data.iterrows():\n",
    "    for position in ['driver', 'operator', 'passenger', 'instructor']:\n",
    "        employee = row[position]\n",
    "        score = row[f'{position}_score']\n",
    "        if employee in employee_total_points:\n",
    "            employee_total_points[employee] += score\n",
    "            employee_task_count[employee] += 1\n",
    "            employee_scores[employee].append(score)"
   ]
  },
  {
   "cell_type": "code",
   "execution_count": 38,
   "metadata": {},
   "outputs": [],
   "source": [
    "employee_performance = pd.DataFrame({\n",
    "    'Employee': list(employee_total_points.keys()),\n",
    "    'Total Point': list(employee_total_points.values()),\n",
    "    'Task Count': list(employee_task_count.values()),\n",
    "    'Average Point': [sum(employee_scores[employee]) / len(employee_scores[employee]) if len(employee_scores[employee]) > 0 else 0\n",
    "                      for employee in employee_total_points.keys()]\n",
    "})\n"
   ]
  },
  {
   "cell_type": "code",
   "execution_count": 39,
   "metadata": {},
   "outputs": [],
   "source": [
    "employee_performance['Normalized Point'] = employee_performance['Total Point'] / employee_performance['Task Count']\n"
   ]
  },
  {
   "cell_type": "code",
   "execution_count": 40,
   "metadata": {},
   "outputs": [],
   "source": [
    "employee_performance = employee_performance.sort_values('Normalized Point', ascending=False).reset_index(drop=True)\n",
    "employee_count = len(employee_performance)"
   ]
  },
  {
   "cell_type": "code",
   "execution_count": 41,
   "metadata": {},
   "outputs": [],
   "source": [
    "def assign_group(rank):\n",
    "    percentile = rank / employee_count\n",
    "    if percentile < 0.2:\n",
    "        return 1, 'Excellent'\n",
    "    elif percentile < 0.4:\n",
    "        return 2, 'Good'\n",
    "    elif percentile < 0.6:\n",
    "        return 3, 'Average'\n",
    "    elif percentile < 0.8:\n",
    "        return 4, 'Below Average'\n",
    "    else:\n",
    "        return 5, 'Needs Improvement'"
   ]
  },
  {
   "cell_type": "code",
   "execution_count": 42,
   "metadata": {},
   "outputs": [],
   "source": [
    "employee_performance['Group'], employee_performance['Performance Status'] = zip(*employee_performance.index.to_series().apply(assign_group))"
   ]
  },
  {
   "cell_type": "code",
   "execution_count": 43,
   "metadata": {},
   "outputs": [],
   "source": [
    "wb = Workbook()"
   ]
  },
  {
   "cell_type": "code",
   "execution_count": 44,
   "metadata": {},
   "outputs": [],
   "source": [
    "ws = wb.active\n",
    "ws.title = 'Individual Performances'\n",
    "ws.append(['Employee', 'Total Point', 'Task Count', 'Average Point', 'Group', 'Performance Status'])\n",
    "for r in dataframe_to_rows(employee_performance[['Employee', 'Total Point', 'Task Count', 'Average Point', 'Group', 'Performance Status']], index=False, header=False):\n",
    "    ws.append(r)"
   ]
  },
  {
   "cell_type": "code",
   "execution_count": 45,
   "metadata": {},
   "outputs": [],
   "source": [
    "wb.save(excel_path)"
   ]
  },
  {
   "cell_type": "code",
   "execution_count": null,
   "metadata": {},
   "outputs": [],
   "source": []
  },
  {
   "cell_type": "code",
   "execution_count": null,
   "metadata": {},
   "outputs": [],
   "source": []
  }
 ],
 "metadata": {
  "kernelspec": {
   "display_name": "PythonData",
   "language": "python",
   "name": "python3"
  },
  "language_info": {
   "codemirror_mode": {
    "name": "ipython",
    "version": 3
   },
   "file_extension": ".py",
   "mimetype": "text/x-python",
   "name": "python",
   "nbconvert_exporter": "python",
   "pygments_lexer": "ipython3",
   "version": "3.7.7"
  }
 },
 "nbformat": 4,
 "nbformat_minor": 2
}
